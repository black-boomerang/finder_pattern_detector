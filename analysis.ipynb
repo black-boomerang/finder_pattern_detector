{
 "cells": [
  {
   "cell_type": "markdown",
   "id": "1598a7a5",
   "metadata": {},
   "source": [
    "Импортируем необходимые библиотеки:"
   ]
  },
  {
   "cell_type": "code",
   "execution_count": 1,
   "id": "c4e96897",
   "metadata": {},
   "outputs": [],
   "source": [
    "import cv2\n",
    "import matplotlib.pyplot as plt\n",
    "import os\n",
    "import time\n",
    "\n",
    "from finder_pattern_detector import finderPatternDetector"
   ]
  },
  {
   "cell_type": "markdown",
   "id": "61607d14",
   "metadata": {},
   "source": [
    "Запускаем детектор на тестовых датасетах:"
   ]
  },
  {
   "cell_type": "code",
   "execution_count": 2,
   "id": "45d640f0",
   "metadata": {},
   "outputs": [],
   "source": [
    "testSets = ['TestSet1', 'TestSet2']\n",
    "\n",
    "timeSum = 0\n",
    "imagesCount = 0\n",
    "for testSet in testSets:\n",
    "    testSetDir = os.path.join('images', testSet)\n",
    "    patternsDir = os.path.join('images', testSet + 'WithPatterns')\n",
    "    os.makedirs(patternsDir, exist_ok=True)\n",
    "    \n",
    "    for i, imageName in enumerate(os.listdir(testSetDir)):\n",
    "        image = cv2.imread(os.path.join(testSetDir, imageName))\n",
    "        \n",
    "        timeStart = time.time()\n",
    "        patterns = finderPatternDetector().find_patterns(image)\n",
    "        timeSum += time.time() - timeStart\n",
    "        for y_top, x_left, y_bottom, x_right in patterns:\n",
    "            image = cv2.rectangle(image, (x_left, y_top), (x_right, y_bottom), (0, 0, 255), 5)\n",
    "            \n",
    "        cv2.imwrite(os.path.join(patternsDir, imageName), image)\n",
    "        \n",
    "    imagesCount += len(os.listdir(testSetDir))"
   ]
  },
  {
   "cell_type": "code",
   "execution_count": 7,
   "id": "af865fd8",
   "metadata": {},
   "outputs": [
    {
     "name": "stdout",
     "output_type": "stream",
     "text": [
      "Среднее время работы на одном изображении (для тестовых датасетов): 15.2 секунды\n"
     ]
    }
   ],
   "source": [
    "print(f'Среднее время работы на одном изображении (для тестовых датасетов): {timeSum / imagesCount:.1f} секунды')"
   ]
  },
  {
   "cell_type": "markdown",
   "id": "b858b10e",
   "metadata": {},
   "source": [
    "Precision и Recall считаем вручную:"
   ]
  },
  {
   "cell_type": "code",
   "execution_count": 13,
   "id": "326b87b7",
   "metadata": {},
   "outputs": [
    {
     "name": "stdout",
     "output_type": "stream",
     "text": [
      "Precision (TestSet1): 99.3%\n",
      "Recall (TestSet1): 92.6%\n",
      "Precision (TestSet2): 100.0%\n",
      "Recall (TestSet2): 83.3%\n"
     ]
    }
   ],
   "source": [
    "TP_1 = (2 * 1 + 6 * 2 + 39 * 3 + 6)\n",
    "FP_1 = 1\n",
    "FN_1 = 2 * 2 + 7 * 1\n",
    "TP_2 = 8 * 1 + 8 * 2 + 32 * 3 + 5\n",
    "FP_2 = 0\n",
    "FN_2 = 8 * 2 + 9 * 1\n",
    "print(f'Precision (TestSet1): {TP_1 / (TP_1 + FP_1) * 100:.1f}%')\n",
    "print(f'Recall (TestSet1): {TP_1 / (TP_1 + FN_1) * 100:.1f}%')\n",
    "print(f'Precision (TestSet2): {TP_2 / (TP_2 + FP_2) * 100:.1f}%')\n",
    "print(f'Recall (TestSet2): {TP_2 / (TP_2 + FN_2) * 100:.1f}%')"
   ]
  },
  {
   "cell_type": "markdown",
   "id": "6ddea83d",
   "metadata": {},
   "source": [
    "**Вывод:** Таким образом, Precision у детектора близок к идеальному (ложных срабатываний практически нет), а Recall на втором датасете хуже, чем на первом. В целом детектор хорошо находит нужные шаблоны на изображениях."
   ]
  }
 ],
 "metadata": {
  "kernelspec": {
   "display_name": "Python 3 (ipykernel)",
   "language": "python",
   "name": "python3"
  },
  "language_info": {
   "codemirror_mode": {
    "name": "ipython",
    "version": 3
   },
   "file_extension": ".py",
   "mimetype": "text/x-python",
   "name": "python",
   "nbconvert_exporter": "python",
   "pygments_lexer": "ipython3",
   "version": "3.7.11"
  }
 },
 "nbformat": 4,
 "nbformat_minor": 5
}
